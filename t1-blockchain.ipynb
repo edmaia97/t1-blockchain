{
 "cells": [
  {
   "cell_type": "code",
   "execution_count": 67,
   "id": "45cd664c",
   "metadata": {},
   "outputs": [],
   "source": [
    "import time\n",
    "import hashlib"
   ]
  },
  {
   "cell_type": "code",
   "execution_count": 68,
   "id": "5f7a4bc9",
   "metadata": {},
   "outputs": [],
   "source": [
    "class Block:\n",
    "    def __init__(self, index, transactions, timestamp, previous_hash, nonce):\n",
    "        self.index = index\n",
    "        self.transactions = transactions\n",
    "        self.timestamp = timestamp\n",
    "        self.previous_hash = previous_hash\n",
    "        self.nonce = nonce\n",
    "        \n",
    "    def __repr__(self):\n",
    "        return f'{self.index}-{self.transactions}-{self.timestamp}-{self.previous_hash}'"
   ]
  },
  {
   "cell_type": "code",
   "execution_count": 95,
   "id": "9c28b2d3",
   "metadata": {},
   "outputs": [],
   "source": [
    "class Blockchain:\n",
    "    def __init__(self, mensagem):\n",
    "        self.blocks = []\n",
    "        self.genesis = self.__add_genesis(mensagem=mensagem, index=0, timestamp=time.time(), previous_hash='0')\n",
    "        \n",
    "    def __add_genesis(self, mensagem, index, timestamp, previous_hash):\n",
    "        block = Block(index, [], timestamp, previous_hash, 0)\n",
    "        block.nonce = self.__calculate_hash(f'{mensagem}-{block}')\n",
    "        return block\n",
    "        \n",
    "    def add_block(self, transactions):\n",
    "        block = Block(len(self.blocks), transactions, time.time(), self.blocks[-1], 0)\n",
    "        block.nonce = self.__calculate_hash(f'{block}')\n",
    "        return block\n",
    "            \n",
    "    def __calculate_hash(self, block):\n",
    "        block_hash = ''\n",
    "        nonce = 0\n",
    "        while not block_hash.startswith('000'):\n",
    "            block = f'{block}-{nonce}'\n",
    "            block_hash = hashlib.sha256(block.encode()).hexdigest()\n",
    "            nonce += 1\n",
    "        self.blocks.append(block_hash)\n",
    "        return nonce"
   ]
  },
  {
   "cell_type": "code",
   "execution_count": 98,
   "id": "2468518e",
   "metadata": {},
   "outputs": [
    {
     "data": {
      "text/plain": [
       "5882"
      ]
     },
     "execution_count": 98,
     "metadata": {},
     "output_type": "execute_result"
    }
   ],
   "source": [
    "blockchain = Blockchain('Genesis')"
   ]
  },
  {
   "cell_type": "code",
   "execution_count": 99,
   "id": "5cbd2a77",
   "metadata": {},
   "outputs": [],
   "source": [
    "t1='p1,p2,3.4'\n",
    "t2='p3,p2,4.7'\n",
    "t3='p3,p1,10.0'\n",
    "t4='p5,p4,0.2'\n",
    "t5='p1,p6,1.1'\n",
    "t6='p2,p1,3.0'\n",
    "t7='p7,p1,0.1'\n",
    "t8='p7,p2,2.4'\n",
    "t9='p4,p3,1.9'\n",
    "t10='p3,p7,5.7'"
   ]
  },
  {
   "cell_type": "code",
   "execution_count": 100,
   "id": "623af3c3",
   "metadata": {},
   "outputs": [],
   "source": [
    "b1 = blockchain.add_block([t1,t2])\n",
    "b2 = blockchain.add_block([t3,t4])\n",
    "b3 = blockchain.add_block([t5,t6])\n",
    "b4 = blockchain.add_block([t7,t8])\n",
    "b5 = blockchain.add_block([t9,t10])"
   ]
  },
  {
   "cell_type": "code",
   "execution_count": 110,
   "id": "dd7c1cc4",
   "metadata": {},
   "outputs": [
    {
     "name": "stdout",
     "output_type": "stream",
     "text": [
      "\n",
      "Bloco 0\n",
      "[nonce]\t\t5882\n",
      "Hash:\t\t000a7733e490c4ea014fa7efbbda4ada91cf5f0ea869e29eec506c79418c605f\n",
      "Prev hash:\t0\n",
      "\n",
      "Bloco 1\n",
      "[nonce]\t\t597\n",
      "Hash:\t\t000993d16bc5396e6c96bb096fa01b15c8fe221f05bb275b64728afb7d14c5b0\n",
      "Prev hash:\t000a7733e490c4ea014fa7efbbda4ada91cf5f0ea869e29eec506c79418c605f\n",
      "\n",
      "Bloco 2\n",
      "[nonce]\t\t91\n",
      "Hash:\t\t000069ae3061ea3df8ae4aeabb6160b177655754ea5e08af1fa74b9df71a918f\n",
      "Prev hash:\t000993d16bc5396e6c96bb096fa01b15c8fe221f05bb275b64728afb7d14c5b0\n",
      "\n",
      "Bloco 3\n",
      "[nonce]\t\t1397\n",
      "Hash:\t\t000f23c2ee315b897997be271cda31fe13a7960a2c73491078578f769a477e07\n",
      "Prev hash:\t000069ae3061ea3df8ae4aeabb6160b177655754ea5e08af1fa74b9df71a918f\n",
      "\n",
      "Bloco 4\n",
      "[nonce]\t\t3738\n",
      "Hash:\t\t000cae61f3f146ef2b6a608e38c2fa666cd46826edf27fdb0fddc18283808be7\n",
      "Prev hash:\t000f23c2ee315b897997be271cda31fe13a7960a2c73491078578f769a477e07\n",
      "\n",
      "Bloco 5\n",
      "[nonce]\t\t11292\n",
      "Hash:\t\t00050542461f74539271f7c1914251945b0d189d5e0e311db15dc75548ba07d3\n",
      "Prev hash:\t000cae61f3f146ef2b6a608e38c2fa666cd46826edf27fdb0fddc18283808be7\n"
     ]
    }
   ],
   "source": [
    "lista = [blockchain.genesis, b1, b2, b3, b4, b5]\n",
    "for i,b in enumerate(lista):\n",
    "    print(f'\\nBloco {b.index}\\n[nonce]\\t\\t{b.nonce}\\nHash:\\t\\t{blockchain.blocks[i]}\\nPrev hash:\\t{b.previous_hash}')"
   ]
  }
 ],
 "metadata": {
  "kernelspec": {
   "display_name": "Python 3",
   "language": "python",
   "name": "python3"
  },
  "language_info": {
   "codemirror_mode": {
    "name": "ipython",
    "version": 3
   },
   "file_extension": ".py",
   "mimetype": "text/x-python",
   "name": "python",
   "nbconvert_exporter": "python",
   "pygments_lexer": "ipython3",
   "version": "3.8.8"
  }
 },
 "nbformat": 4,
 "nbformat_minor": 5
}

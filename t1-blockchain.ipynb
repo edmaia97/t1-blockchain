{
 "cells": [
  {
   "cell_type": "code",
   "execution_count": 1,
   "id": "45cd664c",
   "metadata": {},
   "outputs": [],
   "source": [
    "import time\n",
    "import hashlib"
   ]
  },
  {
   "cell_type": "code",
   "execution_count": 2,
   "id": "5f7a4bc9",
   "metadata": {},
   "outputs": [],
   "source": [
    "class Block:\n",
    "    def __init__(self, index, transactions, timestamp, previous_hash, nonce):\n",
    "        self.index = index\n",
    "        self.transactions = transactions\n",
    "        self.timestamp = timestamp\n",
    "        self.previous_hash = previous_hash\n",
    "        self.nonce = nonce\n",
    "        \n",
    "    def __repr__(self):\n",
    "        return f'{self.index}-{self.transactions}-{self.timestamp}-{self.previous_hash}'"
   ]
  },
  {
   "cell_type": "code",
   "execution_count": 3,
   "id": "9c28b2d3",
   "metadata": {},
   "outputs": [],
   "source": [
    "class Blockchain:\n",
    "    def __init__(self, mensagem):\n",
    "        self.blocks = []\n",
    "        self.hashs = []\n",
    "        self.genesis = self.__add_genesis(mensagem=mensagem, index=0, timestamp=time.time(), previous_hash='0')\n",
    "        \n",
    "    def __add_genesis(self, mensagem, index, timestamp, previous_hash):\n",
    "        block = Block(index, [], timestamp, previous_hash, 0)\n",
    "        block.nonce = self.__calculate_hash(f'{mensagem}-{block}')\n",
    "        self.blocks.append(block)\n",
    "        return block\n",
    "        \n",
    "    def add_block(self, transactions):\n",
    "        block = Block(len(self.blocks), transactions, time.time(), self.hashs[-1], 0)\n",
    "        block.nonce = self.__calculate_hash(f'{block}')\n",
    "        self.blocks.append(block)\n",
    "        return block\n",
    "            \n",
    "    def __calculate_hash(self, block):\n",
    "        block_hash = ''\n",
    "        nonce = 0\n",
    "        while not block_hash.startswith('000'):\n",
    "            block = f'{block}-{nonce}'\n",
    "            block_hash = hashlib.sha256(block.encode()).hexdigest()\n",
    "            nonce += 1\n",
    "        self.hashs.append(block_hash)\n",
    "        return nonce\n",
    "    \n",
    "    def is_blockchain_valid(self):\n",
    "        is_valid = 'Blockchain inválida'\n",
    "        for i in range(1, len(self.blocks)):\n",
    "            curr_hash = self.hashs[i - 1]\n",
    "#             print(curr_hash)\n",
    "            if self.blocks[i].previous_hash == curr_hash:\n",
    "                is_valid = 'Blockchain válida'\n",
    "            else:\n",
    "                is_valid = 'Blockchain inválida'\n",
    "        return is_valid"
   ]
  },
  {
   "cell_type": "code",
   "execution_count": 4,
   "id": "2468518e",
   "metadata": {},
   "outputs": [],
   "source": [
    "blockchain = Blockchain('Genesis')"
   ]
  },
  {
   "cell_type": "code",
   "execution_count": 5,
   "id": "5cbd2a77",
   "metadata": {},
   "outputs": [],
   "source": [
    "t1='p1,p2,3.4'\n",
    "t2='p3,p2,4.7'\n",
    "t3='p3,p1,10.0'\n",
    "t4='p5,p4,0.2'\n",
    "t5='p1,p6,1.1'\n",
    "t6='p2,p1,3.0'\n",
    "t7='p7,p1,0.1'\n",
    "t8='p7,p2,2.4'\n",
    "t9='p4,p3,1.9'\n",
    "t10='p3,p7,5.7'"
   ]
  },
  {
   "cell_type": "code",
   "execution_count": 6,
   "id": "623af3c3",
   "metadata": {},
   "outputs": [],
   "source": [
    "b1 = blockchain.add_block([t1,t2])\n",
    "b2 = blockchain.add_block([t3,t4])\n",
    "b3 = blockchain.add_block([t5,t6])\n",
    "b4 = blockchain.add_block([t7,t8])\n",
    "b5 = blockchain.add_block([t9,t10])"
   ]
  },
  {
   "cell_type": "code",
   "execution_count": 7,
   "id": "dd7c1cc4",
   "metadata": {},
   "outputs": [
    {
     "name": "stdout",
     "output_type": "stream",
     "text": [
      "\n",
      "Bloco 0\n",
      "[nonce]\t\t3199\n",
      "Hash:\t\t000d11840769674fd5a44a5fb87e96ea698216cc36b9dc84b9c236ed3a669495\n",
      "Prev hash:\t0\n",
      "\n",
      "Bloco 1\n",
      "[nonce]\t\t335\n",
      "Hash:\t\t000811182c2a1620a4292ba3e3848fd5d154fae62cd85020d67dd68a1eef16fe\n",
      "Prev hash:\t000d11840769674fd5a44a5fb87e96ea698216cc36b9dc84b9c236ed3a669495\n",
      "\n",
      "Bloco 2\n",
      "[nonce]\t\t3826\n",
      "Hash:\t\t000e914f547e1d0b10690d8741e40d7e82f5562b868da01c74e4b40832cf1023\n",
      "Prev hash:\t000811182c2a1620a4292ba3e3848fd5d154fae62cd85020d67dd68a1eef16fe\n",
      "\n",
      "Bloco 3\n",
      "[nonce]\t\t294\n",
      "Hash:\t\t00046ef2d53ea06d5a72893efd6b33edb48871fed536182147401b2219976b4a\n",
      "Prev hash:\t000e914f547e1d0b10690d8741e40d7e82f5562b868da01c74e4b40832cf1023\n",
      "\n",
      "Bloco 4\n",
      "[nonce]\t\t2776\n",
      "Hash:\t\t000dca6f362655bcf7149bf20575c0d3486a6ddf9f1b21a0a1a225531ea04a50\n",
      "Prev hash:\t00046ef2d53ea06d5a72893efd6b33edb48871fed536182147401b2219976b4a\n",
      "\n",
      "Bloco 5\n",
      "[nonce]\t\t1570\n",
      "Hash:\t\t000516fee3e6231242e76260017b7f0294059cfa559b2714d9e95ead05bf6bd9\n",
      "Prev hash:\t000dca6f362655bcf7149bf20575c0d3486a6ddf9f1b21a0a1a225531ea04a50\n"
     ]
    }
   ],
   "source": [
    "lista = [blockchain.genesis, b1, b2, b3, b4, b5]\n",
    "for i,b in enumerate(blockchain.blocks):\n",
    "    print(f'\\nBloco {b.index}\\n[nonce]\\t\\t{b.nonce}\\nHash:\\t\\t{blockchain.hashs[i]}\\nPrev hash:\\t{b.previous_hash}')"
   ]
  },
  {
   "cell_type": "code",
   "execution_count": 8,
   "id": "a9119381",
   "metadata": {},
   "outputs": [
    {
     "data": {
      "text/plain": [
       "'Blockchain válida'"
      ]
     },
     "execution_count": 8,
     "metadata": {},
     "output_type": "execute_result"
    }
   ],
   "source": [
    "blockchain.is_blockchain_valid()"
   ]
  },
  {
   "cell_type": "code",
   "execution_count": null,
   "id": "cebe29c7",
   "metadata": {},
   "outputs": [],
   "source": []
  }
 ],
 "metadata": {
  "kernelspec": {
   "display_name": "Python 3",
   "language": "python",
   "name": "python3"
  },
  "language_info": {
   "codemirror_mode": {
    "name": "ipython",
    "version": 3
   },
   "file_extension": ".py",
   "mimetype": "text/x-python",
   "name": "python",
   "nbconvert_exporter": "python",
   "pygments_lexer": "ipython3",
   "version": "3.8.8"
  }
 },
 "nbformat": 4,
 "nbformat_minor": 5
}

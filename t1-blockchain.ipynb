{
 "cells": [
  {
   "cell_type": "code",
   "execution_count": 1,
   "id": "45cd664c",
   "metadata": {},
   "outputs": [],
   "source": [
    "import time\n",
    "import hashlib"
   ]
  },
  {
   "cell_type": "code",
   "execution_count": 2,
   "id": "5f7a4bc9",
   "metadata": {},
   "outputs": [],
   "source": [
    "class Block:\n",
    "    def __init__(self, index, transactions, timestamp, previous_hash, nonce):\n",
    "        self.index = index\n",
    "        self.transactions = transactions\n",
    "        self.timestamp = timestamp\n",
    "        self.previous_hash = previous_hash\n",
    "        self.nonce = nonce\n",
    "        \n",
    "    def __repr__(self):\n",
    "        return f'{self.index}-{self.transactions}-{self.timestamp}-{self.previous_hash}'"
   ]
  },
  {
   "cell_type": "code",
   "execution_count": 3,
   "id": "9c28b2d3",
   "metadata": {},
   "outputs": [],
   "source": [
    "class Blockchain:\n",
    "    def __init__(self, mensagem):\n",
    "        self.blocks = []\n",
    "        self.genesis = self.__add_genesis(mensagem=mensagem, index=0, timestamp=time.time(), previous_hash='0')\n",
    "        \n",
    "    def __add_genesis(self, mensagem, index, timestamp, previous_hash):\n",
    "        block = Block(index, [], timestamp, previous_hash, 0)\n",
    "        block.nonce = self.__calculate_hash(f'{mensagem}-{block}')\n",
    "        return block\n",
    "        \n",
    "    def add_block(self, transactions):\n",
    "        block = Block(len(self.blocks), transactions, time.time(), self.blocks[-1], 0)\n",
    "        block.nonce = self.__calculate_hash(f'{block}')\n",
    "        return block\n",
    "            \n",
    "    def __calculate_hash(self, block):\n",
    "        block_hash = ''\n",
    "        nonce = 0\n",
    "        while not block_hash.startswith('000'):\n",
    "            block = f'{block}-{nonce}'\n",
    "            block_hash = hashlib.sha256(block.encode()).hexdigest()\n",
    "            nonce += 1\n",
    "        self.blocks.append(block_hash)\n",
    "        return nonce"
   ]
  },
  {
   "cell_type": "code",
   "execution_count": 4,
   "id": "2468518e",
   "metadata": {},
   "outputs": [],
   "source": [
    "blockchain = Blockchain('Genesis')"
   ]
  },
  {
   "cell_type": "code",
   "execution_count": 5,
   "id": "5cbd2a77",
   "metadata": {},
   "outputs": [],
   "source": [
    "t1='p1,p2,3.4'\n",
    "t2='p3,p2,4.7'\n",
    "t3='p3,p1,10.0'\n",
    "t4='p5,p4,0.2'\n",
    "t5='p1,p6,1.1'\n",
    "t6='p2,p1,3.0'\n",
    "t7='p7,p1,0.1'\n",
    "t8='p7,p2,2.4'\n",
    "t9='p4,p3,1.9'\n",
    "t10='p3,p7,5.7'"
   ]
  },
  {
   "cell_type": "code",
   "execution_count": 6,
   "id": "623af3c3",
   "metadata": {},
   "outputs": [],
   "source": [
    "b1 = blockchain.add_block([t1,t2])\n",
    "b2 = blockchain.add_block([t3,t4])\n",
    "b3 = blockchain.add_block([t5,t6])\n",
    "b4 = blockchain.add_block([t7,t8])\n",
    "b5 = blockchain.add_block([t9,t10])"
   ]
  },
  {
   "cell_type": "code",
   "execution_count": 7,
   "id": "dd7c1cc4",
   "metadata": {},
   "outputs": [
    {
     "name": "stdout",
     "output_type": "stream",
     "text": [
      "\n",
      "Bloco 0\n",
      "[nonce]\t\t6827\n",
      "Hash:\t\t0006e7da48fbc93dff549adf55384000b24ea2b8d89d3c8cd254c5eb18f638d9\n",
      "Prev hash:\t0\n",
      "\n",
      "Bloco 1\n",
      "[nonce]\t\t365\n",
      "Hash:\t\t0003e63d10698bfed953c0d68258ff530a1e2a342691c11f1890c071df725e2a\n",
      "Prev hash:\t0006e7da48fbc93dff549adf55384000b24ea2b8d89d3c8cd254c5eb18f638d9\n",
      "\n",
      "Bloco 2\n",
      "[nonce]\t\t95\n",
      "Hash:\t\t0007130a2be6cca85a17161a74b56693ae0a33a3ad9e4a49c27867415c206d4c\n",
      "Prev hash:\t0003e63d10698bfed953c0d68258ff530a1e2a342691c11f1890c071df725e2a\n",
      "\n",
      "Bloco 3\n",
      "[nonce]\t\t5791\n",
      "Hash:\t\t000ebf75562accd2887ce59afd76e25ee3ef62a7d15319237d6527b3e57986a6\n",
      "Prev hash:\t0007130a2be6cca85a17161a74b56693ae0a33a3ad9e4a49c27867415c206d4c\n",
      "\n",
      "Bloco 4\n",
      "[nonce]\t\t1798\n",
      "Hash:\t\t000635d1d0e2bd5e01388cc165ff2108748ef8cea1e53b0fc80a2a24fff26f81\n",
      "Prev hash:\t000ebf75562accd2887ce59afd76e25ee3ef62a7d15319237d6527b3e57986a6\n",
      "\n",
      "Bloco 5\n",
      "[nonce]\t\t3739\n",
      "Hash:\t\t0000d6cfc31f8f71763265bb95703bfc9ff8a711f957326e294d23c1cd3851ba\n",
      "Prev hash:\t000635d1d0e2bd5e01388cc165ff2108748ef8cea1e53b0fc80a2a24fff26f81\n"
     ]
    }
   ],
   "source": [
    "lista = [blockchain.genesis, b1, b2, b3, b4, b5]\n",
    "for i,b in enumerate(lista):\n",
    "    print(f'\\nBloco {b.index}\\n[nonce]\\t\\t{b.nonce}\\nHash:\\t\\t{blockchain.blocks[i]}\\nPrev hash:\\t{b.previous_hash}')"
   ]
  }
 ],
 "metadata": {
  "kernelspec": {
   "display_name": "Python 3",
   "language": "python",
   "name": "python3"
  },
  "language_info": {
   "codemirror_mode": {
    "name": "ipython",
    "version": 3
   },
   "file_extension": ".py",
   "mimetype": "text/x-python",
   "name": "python",
   "nbconvert_exporter": "python",
   "pygments_lexer": "ipython3",
   "version": "3.8.8"
  }
 },
 "nbformat": 4,
 "nbformat_minor": 5
}
